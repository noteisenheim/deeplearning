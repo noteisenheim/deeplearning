{
 "cells": [
  {
   "cell_type": "markdown",
   "metadata": {},
   "source": [
    "# Character level language modelling\n",
    "\n",
    "Given a dataset with dinosaurs names, the task is to generate other names using RNN model. The model is in `rnn.py` file, also implemented by me"
   ]
  },
  {
   "cell_type": "code",
   "execution_count": 1,
   "metadata": {},
   "outputs": [],
   "source": [
    "# importing libraries\n",
    "import numpy as np\n",
    "from rnn import *\n",
    "from rnn_utils import *\n",
    "import random\n",
    "import pprint"
   ]
  },
  {
   "cell_type": "markdown",
   "metadata": {},
   "source": [
    "## Importing and preprocessing data\n",
    "\n",
    "All of the data will be divided into chars, then there will be made a one-to-one correspondence between chars and numbers"
   ]
  },
  {
   "cell_type": "code",
   "execution_count": 2,
   "metadata": {},
   "outputs": [
    {
     "name": "stdout",
     "output_type": "stream",
     "text": [
      "There are 19909 total characters and 27 unique characters in your data.\n"
     ]
    }
   ],
   "source": [
    "# importing data\n",
    "data = open('dinos.txt', 'r').read()\n",
    "data= data.lower()\n",
    "chars = list(set(data))\n",
    "data_size, vocab_size = len(data), len(chars)\n",
    "print('There are %d total characters and %d unique characters in your data.' % (data_size, vocab_size))"
   ]
  },
  {
   "cell_type": "code",
   "execution_count": 3,
   "metadata": {},
   "outputs": [
    {
     "name": "stdout",
     "output_type": "stream",
     "text": [
      "['\\n', 'a', 'b', 'c', 'd', 'e', 'f', 'g', 'h', 'i', 'j', 'k', 'l', 'm', 'n', 'o', 'p', 'q', 'r', 's', 't', 'u', 'v', 'w', 'x', 'y', 'z']\n"
     ]
    }
   ],
   "source": [
    "# extracting all unique chars used\n",
    "chars = sorted(chars)\n",
    "print(chars)"
   ]
  },
  {
   "cell_type": "code",
   "execution_count": 4,
   "metadata": {
    "scrolled": true
   },
   "outputs": [
    {
     "name": "stdout",
     "output_type": "stream",
     "text": [
      "{   0: '\\n',\n",
      "    1: 'a',\n",
      "    2: 'b',\n",
      "    3: 'c',\n",
      "    4: 'd',\n",
      "    5: 'e',\n",
      "    6: 'f',\n",
      "    7: 'g',\n",
      "    8: 'h',\n",
      "    9: 'i',\n",
      "    10: 'j',\n",
      "    11: 'k',\n",
      "    12: 'l',\n",
      "    13: 'm',\n",
      "    14: 'n',\n",
      "    15: 'o',\n",
      "    16: 'p',\n",
      "    17: 'q',\n",
      "    18: 'r',\n",
      "    19: 's',\n",
      "    20: 't',\n",
      "    21: 'u',\n",
      "    22: 'v',\n",
      "    23: 'w',\n",
      "    24: 'x',\n",
      "    25: 'y',\n",
      "    26: 'z'}\n"
     ]
    }
   ],
   "source": [
    "# creating one-to-one correspondence\n",
    "char_to_ix = { ch:i for i,ch in enumerate(chars) }\n",
    "ix_to_char = { i:ch for i,ch in enumerate(chars) }\n",
    "pp = pprint.PrettyPrinter(indent=4)\n",
    "pp.pprint(ix_to_char)"
   ]
  },
  {
   "cell_type": "markdown",
   "metadata": {},
   "source": [
    "## Helping functions for the model"
   ]
  },
  {
   "cell_type": "markdown",
   "metadata": {},
   "source": [
    "Clipping gradients in order to prevent the overflow of gradients"
   ]
  },
  {
   "cell_type": "code",
   "execution_count": 5,
   "metadata": {},
   "outputs": [],
   "source": [
    "def clip(gradients, maxValue):\n",
    "    '''\n",
    "    Clips the gradients' values between minimum and maximum.\n",
    "    \n",
    "    Arguments:\n",
    "    gradients -- a dictionary containing the gradients \"dWaa\", \"dWax\", \"dWya\", \"db\", \"dby\"\n",
    "    maxValue -- everything above this number is set to this number, and everything less than -maxValue is set to -maxValue\n",
    "    \n",
    "    Returns: \n",
    "    gradients -- a dictionary with the clipped gradients.\n",
    "    '''\n",
    "    \n",
    "    dWaa, dWax, dWya, db, dby = gradients['dWaa'], gradients['dWax'], gradients['dWya'], gradients['db'], gradients['dby']\n",
    "   \n",
    "    # clip to mitigate exploding gradients, loop over [dWax, dWaa, dWya, db, dby]\n",
    "    for gradient in [dWax, dWaa, dWya, db, dby]:\n",
    "        gradient = np.clip(gradient, a_min=-maxValue, a_max=maxValue, out=gradient)\n",
    "    \n",
    "    gradients = {\"dWaa\": dWaa, \"dWax\": dWax, \"dWya\": dWya, \"db\": db, \"dby\": dby}\n",
    "    \n",
    "    return gradients"
   ]
  },
  {
   "cell_type": "markdown",
   "metadata": {},
   "source": [
    "Sampling function. Is needed to choose the char from the previous outputs"
   ]
  },
  {
   "cell_type": "code",
   "execution_count": 6,
   "metadata": {},
   "outputs": [],
   "source": [
    "def sample(parameters, char_to_ix, seed=20):\n",
    "    \"\"\"\n",
    "    Sample a sequence of characters according to a sequence of probability distributions output of the RNN\n",
    "\n",
    "    Arguments:\n",
    "    parameters -- python dictionary containing the parameters Waa, Wax, Wya, by, and b. \n",
    "    char_to_ix -- python dictionary mapping each character to an index.\n",
    "    seed -- used for grading purposes. Do not worry about it.\n",
    "\n",
    "    Returns:\n",
    "    indices -- a list of length n containing the indices of the sampled characters.\n",
    "    \"\"\"\n",
    "    \n",
    "    # retrieve parameters and relevant shapes from \"parameters\" dictionary\n",
    "    Waa, Wax, Wya, by, b = parameters['Waa'], parameters['Wax'], parameters['Wya'], parameters['by'], parameters['b']\n",
    "    vocab_size = by.shape[0]\n",
    "    n_a = Waa.shape[1]\n",
    "    \n",
    "    # initialize the seq generation\n",
    "    x = np.zeros([vocab_size, 1])\n",
    "    a_prev = np.zeros([n_a, 1])\n",
    "    \n",
    "    # create an empty list of indices, this is the list which will contain the list of indices of the characters to generate\n",
    "    indices = []\n",
    "    \n",
    "    # idx is the index of the one-hot vector x that is set to 1\n",
    "    # all other positions in x are zero\n",
    "    idx = -1 \n",
    "    \n",
    "    # loop over time-steps t. At each time-step:\n",
    "    # sample a character from a probability distribution \n",
    "    # and append its index (`idx`) to the list \"indices\" \n",
    "    # we'll stop if we reach 50 characters \n",
    "    # (which should be very unlikely with a well trained model).\n",
    "    # setting the maximum number of characters helps with debugging and prevents infinite loops\n",
    "    counter = 0\n",
    "    newline_character = char_to_ix['\\n']\n",
    "    \n",
    "    while (idx != newline_character and counter != 50):\n",
    "        \n",
    "        # forward propagate x\n",
    "        a = np.tanh(np.dot(Wax, x) + np.dot(Waa, a_prev) + b)\n",
    "        z = np.dot(Wya, a) + by\n",
    "        y = softmax(z)\n",
    "        \n",
    "        # sample the index of a character within the vocabulary from the probability distribution y\n",
    "        idx = np.random.choice(range(vocab_size), p=y.flatten())\n",
    "\n",
    "        # append the index to \"indices\"\n",
    "        indices.append(idx)\n",
    "        \n",
    "        # overwrite the input x with one that corresponds to the sampled index `idx`\n",
    "        x = np.zeros([vocab_size, 1])\n",
    "        x[idx] = 1\n",
    "        \n",
    "        # update \"a_prev\" to be \"a\"\n",
    "        a_prev = a\n",
    "\n",
    "    if (counter == 50):\n",
    "        indices.append(char_to_ix['\\n'])\n",
    "    \n",
    "    return indices"
   ]
  },
  {
   "cell_type": "markdown",
   "metadata": {},
   "source": [
    "Optimisation function needed to execute a model training"
   ]
  },
  {
   "cell_type": "code",
   "execution_count": 7,
   "metadata": {},
   "outputs": [],
   "source": [
    "def optimize(X, Y, a_prev, parameters, learning_rate = 0.01):\n",
    "    \"\"\"\n",
    "    Execute one step of the optimization to train the model.\n",
    "    \n",
    "    Arguments:\n",
    "    X -- list of integers, where each integer is a number that maps to a character in the vocabulary.\n",
    "    Y -- list of integers, exactly the same as X but shifted one index to the left.\n",
    "    a_prev -- previous hidden state.\n",
    "    parameters -- python dictionary containing:\n",
    "                        Wax -- Weight matrix multiplying the input, numpy array of shape (n_a, n_x)\n",
    "                        Waa -- Weight matrix multiplying the hidden state, numpy array of shape (n_a, n_a)\n",
    "                        Wya -- Weight matrix relating the hidden-state to the output, numpy array of shape (n_y, n_a)\n",
    "                        b --  Bias, numpy array of shape (n_a, 1)\n",
    "                        by -- Bias relating the hidden-state to the output, numpy array of shape (n_y, 1)\n",
    "    learning_rate -- learning rate for the model.\n",
    "    \n",
    "    Returns:\n",
    "    loss -- value of the loss function (cross-entropy)\n",
    "    gradients -- python dictionary containing:\n",
    "                        dWax -- Gradients of input-to-hidden weights, of shape (n_a, n_x)\n",
    "                        dWaa -- Gradients of hidden-to-hidden weights, of shape (n_a, n_a)\n",
    "                        dWya -- Gradients of hidden-to-output weights, of shape (n_y, n_a)\n",
    "                        db -- Gradients of bias vector, of shape (n_a, 1)\n",
    "                        dby -- Gradients of output bias vector, of shape (n_y, 1)\n",
    "    a[len(X)-1] -- the last hidden state, of shape (n_a, 1)\n",
    "    \"\"\"\n",
    "    # forward propagate through time\n",
    "    loss, cache = rnn_forward(X, Y, a_prev, parameters)\n",
    "    \n",
    "    # backpropagate through time\n",
    "    gradients, a = rnn_backward(X, Y, parameters, cache)\n",
    "    \n",
    "    # clip gradients between -5 (min) and 5 (max)\n",
    "    gradients = clip(gradients, 5)\n",
    "    \n",
    "    # update parameters\n",
    "    parameters = update_parameters(parameters, gradients, learning_rate)\n",
    "    \n",
    "    return loss, gradients, a[len(X)-1]"
   ]
  },
  {
   "cell_type": "markdown",
   "metadata": {},
   "source": [
    "## Building and training the model"
   ]
  },
  {
   "cell_type": "code",
   "execution_count": 8,
   "metadata": {},
   "outputs": [],
   "source": [
    "def model(data, ix_to_char, char_to_ix, num_iterations = 35000, n_a = 50, dino_names = 7, vocab_size = 27, learning_rate=0.1, verbose = False):\n",
    "    \"\"\"\n",
    "    Trains the model and generates dinosaur names. \n",
    "    \n",
    "    Arguments:\n",
    "    data -- text corpus\n",
    "    ix_to_char -- dictionary that maps the index to a character\n",
    "    char_to_ix -- dictionary that maps a character to an index\n",
    "    num_iterations -- number of iterations to train the model for\n",
    "    n_a -- number of units of the RNN cell\n",
    "    dino_names -- number of dinosaur names you want to sample at each iteration. \n",
    "    vocab_size -- number of unique characters found in the text (size of the vocabulary)\n",
    "    \n",
    "    Returns:\n",
    "    parameters -- learned parameters\n",
    "    \"\"\"\n",
    "    \n",
    "    # retrieve n_x and n_y from vocab_size\n",
    "    n_x, n_y = vocab_size, vocab_size\n",
    "    \n",
    "    # initialize parameters\n",
    "    parameters = initialize_parameters(n_a, n_x, n_y)\n",
    "    \n",
    "    # initialize loss (this is required because we want to smooth our loss)\n",
    "    loss = get_initial_loss(vocab_size, dino_names)\n",
    "    \n",
    "    # build list of all dinosaur names (training examples).\n",
    "    with open(\"dinos.txt\") as f:\n",
    "        examples = f.readlines()\n",
    "    examples = [x.lower().strip() for x in examples]\n",
    "    \n",
    "    # shuffle list of all dinosaur names\n",
    "    np.random.shuffle(examples)\n",
    "    \n",
    "    # initialize the hidden state of your LSTM\n",
    "    a_prev = np.zeros((n_a, 1))\n",
    "    \n",
    "    # optimization loop\n",
    "    for j in range(num_iterations):\n",
    "        \n",
    "        # set the index `idx`\n",
    "        idx = j % len(examples)\n",
    "        \n",
    "        # set the input X\n",
    "        single_example = examples[idx]\n",
    "        single_example_chars = [c for c in single_example]\n",
    "        single_example_ix = [char_to_ix[c] for c in single_example_chars]\n",
    "        X = [None] + single_example_ix\n",
    "        \n",
    "        # set the labels Y\n",
    "        ix_newline = char_to_ix['\\n']\n",
    "        Y = single_example_ix + [ix_newline]\n",
    "\n",
    "        # perform one optimization step: Forward-prop -> Backward-prop -> Clip -> Update parameters\n",
    "        curr_loss, gradients, a_prev = optimize(X, Y, a_prev, parameters, learning_rate = learning_rate)\n",
    "        \n",
    "        # debug statements to aid in correctly forming X, Y\n",
    "        if verbose and j in [0, len(examples) -1, len(examples)]:\n",
    "            print(\"j = \" , j, \"idx = \", idx,) \n",
    "        if verbose and j in [0]:\n",
    "            print(\"single_example =\", single_example)\n",
    "            print(\"single_example_chars\", single_example_chars)\n",
    "            print(\"single_example_ix\", single_example_ix)\n",
    "            print(\" X = \", X, \"\\n\", \"Y =       \", Y, \"\\n\")\n",
    "        \n",
    "        # use a latency trick to keep the loss smooth. It happens here to accelerate the training.\n",
    "        loss = smooth(loss, curr_loss)\n",
    "\n",
    "        # every 2000 Iteration, generate \"n\" characters thanks to sample() to check if the model is learning properly\n",
    "        if j % 2000 == 0:\n",
    "            \n",
    "            print('Iteration: %d, Loss: %f' % (j, loss) + '\\n')\n",
    "            \n",
    "            # the number of dinosaur names to print\n",
    "            for name in range(dino_names):\n",
    "                \n",
    "                # sample indices and print them\n",
    "                sampled_indices = sample(parameters, char_to_ix)\n",
    "                print_sample(sampled_indices, ix_to_char)\n",
    "      \n",
    "            print('\\n')\n",
    "        \n",
    "    return parameters"
   ]
  },
  {
   "cell_type": "code",
   "execution_count": 11,
   "metadata": {},
   "outputs": [
    {
     "name": "stdout",
     "output_type": "stream",
     "text": [
      "j =  0 idx =  0\n",
      "single_example = cheneosaurus\n",
      "single_example_chars ['c', 'h', 'e', 'n', 'e', 'o', 's', 'a', 'u', 'r', 'u', 's']\n",
      "single_example_ix [3, 8, 5, 14, 5, 15, 19, 1, 21, 18, 21, 19]\n",
      " X =  [None, 3, 8, 5, 14, 5, 15, 19, 1, 21, 18, 21, 19] \n",
      " Y =        [3, 8, 5, 14, 5, 15, 19, 1, 21, 18, 21, 19, 0] \n",
      "\n",
      "Iteration: 0, Loss: 23.090634\n",
      "\n",
      "Odanctpf\n",
      "Gpegztfgrzi\n",
      "Ulonqsiwaqhnfgrhmsyensnusttwllcfgsdspysramtgmhlfoyektcxjhofuwvicpzusjjggqapljsbfdrelyurvgt\n",
      "Wfccowbmwyziojcterugmkasuntadopupordcfwpqhfpeyuadmggyivisdroskyzjtyul\n",
      "Yi\n",
      "Fylcr\n",
      "Unvebruqtqwzdnctebzlv\n",
      "\n",
      "\n",
      "j =  1535 idx =  1535\n",
      "j =  1536 idx =  0\n",
      "Iteration: 2000, Loss: 142.885575\n",
      "\n",
      "Iou\n",
      "Ponrs\n",
      "Oou\n",
      "Poursrsrs\n",
      "Vgnrsrs\n",
      "Poursrs\n",
      "Oours\n",
      "\n",
      "\n",
      "Iteration: 4000, Loss: 170.376151\n",
      "\n",
      "Pgdelerelelelerehelelehelerehehelelelerelerehelehelelelererelerelererehelererehelelereheheheleleheleleheherelelelelelelelerelererelelerelehelelerelehelelerelerelerelelelererelelehererelerelerelelehelehelelelelelehelelerelelererelererelereleremelelehelelelelelsheleh\n",
      "Igrelerehehelererererelelelehsleleleleherehelelehelerererelelcreleleleheherelelerelelerelehelehereheleheheleleleherehehelelehelelelelerelerelerelerehelerehelelelerelelelelelerelelerelelelererelerelelerelelehelehelerelerehelerehelelehelelereherelerersrelerehelelehehehererehelehererereherelelehelelelelerelerehehelelelereherehelerelerelerelehelelelerelehelererelelelelelelclehelerelelcleleleheleheleleherehelelelerehelehererelelelehelelelerelehereherehelelelelelemerelelelelelehelelereherelelerelelerelehelehelehelelehelelereleleherelelerehelelehelehelererehelerelererelehelelelehelsrehelererelelerehehererererelelerelelererelerehererelelelelelerelelelerelelelererelerelerelelelelerehelerererelelehehelerelehereherelelelerehelelererereleleleleleherelelerereherelehelelelelelelehelerelelelelelelelelehelelelelelererelelehehel\n",
      "Cgrerelelelelerelerelelelelelerelererereherehehelelelelererehereherelehehelelelelerelelelelehelerelererelerelererelelererelelerelelelelerelelelelelelerelelehelelelelererelcherelelelelererelehelelerelelerelelelelerelerel\n",
      "Igrelerehelelerehelelelehelelelelelelelelelelelererelerelelerelererehelehereleherelelelelelelerererelerelehelerereher\n",
      "Ognereleleleleleleherelerererererelelererelelelelelelehehemereheherelerelelelelelehehelerelelelelelelehehehelelehererehehererelerehelerelerelerelelerelehehelererehelelerelelehelelelerelelehelereleherelelelelelelelehelererelelelelelereleheleleherelelelelelelererehehelererehelelerehereleherelelehererererekelelerelehelehelelelelereherelelerelerehelelehelererelerelelelehelelererehehelelererehelerehelerelerelelelerelelelelereleleleleherelerer\n",
      "Mgrererelelereleremeheleheleleneleleherelererelerererererelelelelelehehelelelereheleherehererererelelelelehelelelelereherelelererereleherelereherelelerelehelerelelelerererelelelelereleleherelerereherererehehereleherelelelelererelehehelerererehelelelererelelelerelelelelerelerelehelelelererelerelerelehehelehehelelelehelerelehehehelehehehelehehelelerelelelerelererelelereheherereleleheherehelelelelerelehelelererelelelelelelelerelelelerelerehehelelekererelelerelelerehelelelelelerelelelerelehelelelelereleheleleherclererelererelelelelerelelemerehelelelehsleleler\n",
      "Sgdelereleleleleleheherelelererelerererelererelehelererelerehelereleherehelelerelelelerelelelehererelehelererererererbrelereleleleleleleheleleleleherelemelelelelelerehelelelelelelerelererelelelelelerelererelehelelelelereheleleherehelelelelelelelererelererelelereheheheheleherelelehehelelelelelelerelehemehelelelehelerererelehelehelelerelereleherelelerelelelelelelelelelelelerelereleleherelelelelelelelerelehelelererelelelelelelelererereleleleleleleheheleleherelelelelerelelereleleleler\n",
      "\n",
      "\n",
      "Iteration: 6000, Loss: 173.852462\n",
      "\n",
      "Sodi\n",
      "So\n",
      "Ssdi\n",
      "Cs\n",
      "Io\n",
      "Ps\n",
      "Spdi\n",
      "\n",
      "\n",
      "Iteration: 8000, Loss: 173.402386\n",
      "\n",
      "Ooror\n",
      "Ooror\n",
      "Podororor\n",
      "Noror\n",
      "Pgror\n",
      "Ooror\n",
      "Igror\n",
      "\n",
      "\n"
     ]
    }
   ],
   "source": [
    "parameters = model(data, ix_to_char, char_to_ix, num_iterations=10000, verbose = True)"
   ]
  },
  {
   "cell_type": "code",
   "execution_count": null,
   "metadata": {},
   "outputs": [],
   "source": []
  }
 ],
 "metadata": {
  "kernelspec": {
   "display_name": "Python 3",
   "language": "python",
   "name": "python3"
  },
  "language_info": {
   "codemirror_mode": {
    "name": "ipython",
    "version": 3
   },
   "file_extension": ".py",
   "mimetype": "text/x-python",
   "name": "python",
   "nbconvert_exporter": "python",
   "pygments_lexer": "ipython3",
   "version": "3.7.7"
  }
 },
 "nbformat": 4,
 "nbformat_minor": 4
}
