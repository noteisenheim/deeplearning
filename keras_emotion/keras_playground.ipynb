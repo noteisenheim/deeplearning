{
 "cells": [
  {
   "cell_type": "markdown",
   "metadata": {},
   "source": [
    "# Getting known with keras\n",
    "\n",
    "That is the first attempt in using the keras library, so here I am just getting familiar with what it has\n",
    "\n",
    "## Emotion recognition\n",
    "\n",
    "The dataset has labelled 64x64 face images, the labels are 0=\"not smiling\" and 1=\"smiling\". The task is given the face to detect whether the person is smiling or not"
   ]
  },
  {
   "cell_type": "code",
   "execution_count": 8,
   "metadata": {},
   "outputs": [],
   "source": [
    "import numpy as np\n",
    "import keras\n",
    "from keras import layers\n",
    "from keras.layers import Input, Dense, Activation, ZeroPadding2D, BatchNormalization, Flatten, Conv2D\n",
    "from keras.layers import AveragePooling2D, MaxPooling2D, Dropout, GlobalMaxPooling2D, GlobalAveragePooling2D\n",
    "from keras.models import Model\n",
    "from keras.preprocessing import image\n",
    "from keras.utils import layer_utils\n",
    "from keras.utils.data_utils import get_file\n",
    "from keras.applications.imagenet_utils import preprocess_input\n",
    "import pydot\n",
    "from IPython.display import SVG\n",
    "from keras.utils.vis_utils import model_to_dot\n",
    "from keras.utils import plot_model\n",
    "\n",
    "import h5py\n",
    "\n",
    "import keras.backend as K\n",
    "K.set_image_data_format('channels_last')\n",
    "import matplotlib.pyplot as plt\n",
    "from matplotlib.pyplot import imshow\n",
    "\n",
    "%matplotlib inline"
   ]
  },
  {
   "cell_type": "markdown",
   "metadata": {},
   "source": [
    "## Loading data"
   ]
  },
  {
   "cell_type": "code",
   "execution_count": 2,
   "metadata": {},
   "outputs": [],
   "source": [
    "def load_dataset():\n",
    "    train_dataset = h5py.File('datasets/train_happy.h5', \"r\")\n",
    "    train_set_x_orig = np.array(train_dataset[\"train_set_x\"][:])\n",
    "    train_set_y_orig = np.array(train_dataset[\"train_set_y\"][:])\n",
    "\n",
    "    test_dataset = h5py.File('datasets/test_happy.h5', \"r\")\n",
    "    test_set_x_orig = np.array(test_dataset[\"test_set_x\"][:])\n",
    "    test_set_y_orig = np.array(test_dataset[\"test_set_y\"][:])\n",
    "\n",
    "    classes = np.array(test_dataset[\"list_classes\"][:]) # the list of classes\n",
    "    \n",
    "    train_set_y_orig = train_set_y_orig.reshape((1, train_set_y_orig.shape[0]))\n",
    "    test_set_y_orig = test_set_y_orig.reshape((1, test_set_y_orig.shape[0]))\n",
    "    \n",
    "    return train_set_x_orig, train_set_y_orig, test_set_x_orig, test_set_y_orig, classes"
   ]
  },
  {
   "cell_type": "code",
   "execution_count": 5,
   "metadata": {
    "scrolled": true
   },
   "outputs": [
    {
     "name": "stdout",
     "output_type": "stream",
     "text": [
      "number of training examples = 600\n",
      "number of test examples = 150\n",
      "X_train shape: (600, 64, 64, 3)\n",
      "Y_train shape: (600, 1)\n",
      "X_test shape: (150, 64, 64, 3)\n",
      "Y_test shape: (150, 1)\n"
     ]
    }
   ],
   "source": [
    "X_train_orig, Y_train_orig, X_test_orig, Y_test_orig, classes = load_dataset()\n",
    "\n",
    "# normalize image vectors\n",
    "X_train = X_train_orig/255.\n",
    "X_test = X_test_orig/255.\n",
    "\n",
    "# reshape\n",
    "Y_train = Y_train_orig.T\n",
    "Y_test = Y_test_orig.T\n",
    "\n",
    "print (\"number of training examples = \" + str(X_train.shape[0]))\n",
    "print (\"number of test examples = \" + str(X_test.shape[0]))\n",
    "print (\"X_train shape: \" + str(X_train.shape))\n",
    "print (\"Y_train shape: \" + str(Y_train.shape))\n",
    "print (\"X_test shape: \" + str(X_test.shape))\n",
    "print (\"Y_test shape: \" + str(Y_test.shape))"
   ]
  },
  {
   "cell_type": "markdown",
   "metadata": {},
   "source": [
    "## Creating the model"
   ]
  },
  {
   "cell_type": "code",
   "execution_count": 6,
   "metadata": {},
   "outputs": [],
   "source": [
    "def HappyModel(input_shape):\n",
    "    \"\"\"\n",
    "    Implementation of the HappyModel.\n",
    "    \n",
    "    Arguments:\n",
    "    input_shape -- shape of the images of the dataset\n",
    "        (height, width, channels) as a tuple\n",
    "    Returns:\n",
    "    model -- a Model() instance in Keras\n",
    "    \"\"\"\n",
    "    \n",
    "    X_input = Input(input_shape)\n",
    "    \n",
    "    X = ZeroPadding2D((3, 3))(X_input)\n",
    "    \n",
    "    X = Conv2D(32, (7, 7), strides=(1, 1), name='conv0')(X)\n",
    "    X = BatchNormalization(axis=3, name='bn0')(X)\n",
    "    X = Activation('relu')(X)\n",
    "    \n",
    "    X = MaxPooling2D((2, 2), name='max_pool')(X)\n",
    "    \n",
    "    X = Flatten()(X)\n",
    "    X = Dense(1, activation='sigmoid', name='fc')(X)\n",
    "    \n",
    "    model = Model(inputs=X_input, outputs=X, name='HappyModel')\n",
    "    \n",
    "    return model"
   ]
  },
  {
   "cell_type": "markdown",
   "metadata": {},
   "source": [
    "## Creating and training the model"
   ]
  },
  {
   "cell_type": "code",
   "execution_count": 7,
   "metadata": {},
   "outputs": [],
   "source": [
    "happyModel = HappyModel(X_train[0].shape)"
   ]
  },
  {
   "cell_type": "code",
   "execution_count": 17,
   "metadata": {},
   "outputs": [],
   "source": [
    "opt = keras.optimizers.Adam(learning_rate=0.01)\n",
    "happyModel.compile(loss='binary_crossentropy', optimizer=opt, metrics=['accuracy'])"
   ]
  },
  {
   "cell_type": "code",
   "execution_count": 18,
   "metadata": {
    "scrolled": false
   },
   "outputs": [
    {
     "name": "stdout",
     "output_type": "stream",
     "text": [
      "Epoch 1/100\n",
      "10/10 [==============================] - 6s 574ms/step - loss: 3.5302 - accuracy: 0.7800\n",
      "Epoch 2/100\n",
      "10/10 [==============================] - 4s 390ms/step - loss: 0.4157 - accuracy: 0.9183\n",
      "Epoch 3/100\n",
      "10/10 [==============================] - 4s 389ms/step - loss: 0.2430 - accuracy: 0.95000s - loss: 0.2430 - accuracy: 0.95\n",
      "Epoch 4/100\n",
      "10/10 [==============================] - 4s 388ms/step - loss: 0.0548 - accuracy: 0.9850\n",
      "Epoch 5/100\n",
      "10/10 [==============================] - 4s 434ms/step - loss: 0.0253 - accuracy: 0.9883\n",
      "Epoch 6/100\n",
      "10/10 [==============================] - 4s 412ms/step - loss: 0.0256 - accuracy: 0.9883\n",
      "Epoch 7/100\n",
      "10/10 [==============================] - 4s 395ms/step - loss: 0.0208 - accuracy: 0.9933\n",
      "Epoch 8/100\n",
      "10/10 [==============================] - 4s 389ms/step - loss: 0.0217 - accuracy: 0.9917\n",
      "Epoch 9/100\n",
      "10/10 [==============================] - 4s 388ms/step - loss: 0.0472 - accuracy: 0.9833\n",
      "Epoch 10/100\n",
      "10/10 [==============================] - 4s 394ms/step - loss: 0.0250 - accuracy: 0.9883\n",
      "Epoch 11/100\n",
      "10/10 [==============================] - 4s 394ms/step - loss: 0.0194 - accuracy: 0.9933\n",
      "Epoch 12/100\n",
      "10/10 [==============================] - 4s 390ms/step - loss: 0.0130 - accuracy: 0.9950\n",
      "Epoch 13/100\n",
      "10/10 [==============================] - 4s 417ms/step - loss: 0.0248 - accuracy: 0.9933\n",
      "Epoch 14/100\n",
      "10/10 [==============================] - 4s 394ms/step - loss: 0.0150 - accuracy: 0.9967\n",
      "Epoch 15/100\n",
      "10/10 [==============================] - 4s 390ms/step - loss: 0.0128 - accuracy: 0.9950\n",
      "Epoch 16/100\n",
      "10/10 [==============================] - 4s 388ms/step - loss: 0.0126 - accuracy: 0.9950\n",
      "Epoch 17/100\n",
      "10/10 [==============================] - 4s 393ms/step - loss: 0.0113 - accuracy: 0.9983\n",
      "Epoch 18/100\n",
      "10/10 [==============================] - 4s 395ms/step - loss: 0.0146 - accuracy: 0.9950\n",
      "Epoch 19/100\n",
      "10/10 [==============================] - 4s 389ms/step - loss: 0.0106 - accuracy: 0.9933\n",
      "Epoch 20/100\n",
      "10/10 [==============================] - 4s 431ms/step - loss: 0.0083 - accuracy: 0.9983\n",
      "Epoch 21/100\n",
      "10/10 [==============================] - 4s 392ms/step - loss: 0.0136 - accuracy: 0.9983\n",
      "Epoch 22/100\n",
      "10/10 [==============================] - 4s 390ms/step - loss: 0.0084 - accuracy: 0.9983\n",
      "Epoch 23/100\n",
      "10/10 [==============================] - 4s 391ms/step - loss: 0.0085 - accuracy: 0.9983\n",
      "Epoch 24/100\n",
      "10/10 [==============================] - 4s 389ms/step - loss: 0.0073 - accuracy: 0.9967\n",
      "Epoch 25/100\n",
      "10/10 [==============================] - 4s 392ms/step - loss: 0.0074 - accuracy: 0.9983\n",
      "Epoch 26/100\n",
      "10/10 [==============================] - 4s 391ms/step - loss: 0.0107 - accuracy: 0.9950\n",
      "Epoch 27/100\n",
      "10/10 [==============================] - 4s 391ms/step - loss: 0.0225 - accuracy: 0.9917\n",
      "Epoch 28/100\n",
      "10/10 [==============================] - 4s 433ms/step - loss: 0.0247 - accuracy: 0.9917\n",
      "Epoch 29/100\n",
      "10/10 [==============================] - 4s 394ms/step - loss: 0.0294 - accuracy: 0.9900\n",
      "Epoch 30/100\n",
      "10/10 [==============================] - 4s 390ms/step - loss: 0.0156 - accuracy: 0.9983\n",
      "Epoch 31/100\n",
      "10/10 [==============================] - 4s 393ms/step - loss: 0.0039 - accuracy: 1.0000\n",
      "Epoch 32/100\n",
      "10/10 [==============================] - 4s 389ms/step - loss: 0.0116 - accuracy: 0.9950\n",
      "Epoch 33/100\n",
      "10/10 [==============================] - 4s 390ms/step - loss: 0.0108 - accuracy: 0.9967\n",
      "Epoch 34/100\n",
      "10/10 [==============================] - 4s 400ms/step - loss: 0.0271 - accuracy: 0.9900\n",
      "Epoch 35/100\n",
      "10/10 [==============================] - 4s 426ms/step - loss: 0.1829 - accuracy: 0.9583\n",
      "Epoch 36/100\n",
      "10/10 [==============================] - 4s 394ms/step - loss: 0.0701 - accuracy: 0.9717\n",
      "Epoch 37/100\n",
      "10/10 [==============================] - 4s 393ms/step - loss: 0.0393 - accuracy: 0.9967\n",
      "Epoch 38/100\n",
      "10/10 [==============================] - 4s 391ms/step - loss: 0.0204 - accuracy: 0.9950\n",
      "Epoch 39/100\n",
      "10/10 [==============================] - 4s 393ms/step - loss: 0.0112 - accuracy: 0.9967\n",
      "Epoch 40/100\n",
      "10/10 [==============================] - 4s 395ms/step - loss: 0.0202 - accuracy: 0.9983\n",
      "Epoch 41/100\n",
      "10/10 [==============================] - 4s 391ms/step - loss: 0.0123 - accuracy: 0.9917\n",
      "Epoch 42/100\n",
      "10/10 [==============================] - 4s 392ms/step - loss: 0.0110 - accuracy: 0.9967\n",
      "Epoch 43/100\n",
      "10/10 [==============================] - 4s 416ms/step - loss: 0.0126 - accuracy: 0.9967\n",
      "Epoch 44/100\n",
      "10/10 [==============================] - 4s 397ms/step - loss: 0.0208 - accuracy: 0.9917\n",
      "Epoch 45/100\n",
      "10/10 [==============================] - 4s 402ms/step - loss: 0.0168 - accuracy: 0.9967\n",
      "Epoch 46/100\n",
      "10/10 [==============================] - 4s 399ms/step - loss: 0.0123 - accuracy: 0.9950\n",
      "Epoch 47/100\n",
      "10/10 [==============================] - 4s 391ms/step - loss: 0.0498 - accuracy: 0.9817\n",
      "Epoch 48/100\n",
      "10/10 [==============================] - 4s 388ms/step - loss: 0.0354 - accuracy: 0.9900\n",
      "Epoch 49/100\n",
      "10/10 [==============================] - 4s 410ms/step - loss: 0.0182 - accuracy: 0.9933\n",
      "Epoch 50/100\n",
      "10/10 [==============================] - 4s 415ms/step - loss: 0.0143 - accuracy: 0.9967\n",
      "Epoch 51/100\n",
      "10/10 [==============================] - 4s 397ms/step - loss: 0.0142 - accuracy: 0.9950\n",
      "Epoch 52/100\n",
      "10/10 [==============================] - 4s 391ms/step - loss: 0.0200 - accuracy: 0.9917\n",
      "Epoch 53/100\n",
      "10/10 [==============================] - 4s 391ms/step - loss: 0.0139 - accuracy: 0.9950\n",
      "Epoch 54/100\n",
      "10/10 [==============================] - 4s 400ms/step - loss: 0.0061 - accuracy: 0.9983\n",
      "Epoch 55/100\n",
      "10/10 [==============================] - 4s 394ms/step - loss: 0.0115 - accuracy: 0.9983\n",
      "Epoch 56/100\n",
      "10/10 [==============================] - 4s 390ms/step - loss: 0.0045 - accuracy: 0.9983\n",
      "Epoch 57/100\n",
      "10/10 [==============================] - 4s 402ms/step - loss: 0.0022 - accuracy: 1.0000\n",
      "Epoch 58/100\n",
      "10/10 [==============================] - 4s 404ms/step - loss: 0.0011 - accuracy: 1.0000\n",
      "Epoch 59/100\n",
      "10/10 [==============================] - 4s 400ms/step - loss: 0.0011 - accuracy: 1.0000\n",
      "Epoch 60/100\n",
      "10/10 [==============================] - 4s 400ms/step - loss: 6.7912e-04 - accuracy: 1.0000\n",
      "Epoch 61/100\n",
      "10/10 [==============================] - 4s 398ms/step - loss: 8.6345e-04 - accuracy: 1.0000\n",
      "Epoch 62/100\n",
      "10/10 [==============================] - 4s 391ms/step - loss: 8.6628e-04 - accuracy: 1.0000\n",
      "Epoch 63/100\n",
      "10/10 [==============================] - 4s 392ms/step - loss: 0.0011 - accuracy: 1.0000\n",
      "Epoch 64/100\n",
      "10/10 [==============================] - 4s 418ms/step - loss: 0.0036 - accuracy: 0.9983\n",
      "Epoch 65/100\n",
      "10/10 [==============================] - 4s 408ms/step - loss: 0.0018 - accuracy: 0.9983\n",
      "Epoch 66/100\n",
      "10/10 [==============================] - 4s 392ms/step - loss: 0.0018 - accuracy: 0.9983\n",
      "Epoch 67/100\n",
      "10/10 [==============================] - 4s 395ms/step - loss: 0.0011 - accuracy: 1.0000\n",
      "Epoch 68/100\n",
      "10/10 [==============================] - 4s 391ms/step - loss: 4.9979e-04 - accuracy: 1.0000\n",
      "Epoch 69/100\n",
      "10/10 [==============================] - 4s 393ms/step - loss: 5.0786e-04 - accuracy: 1.0000\n",
      "Epoch 70/100\n",
      "10/10 [==============================] - 4s 393ms/step - loss: 4.2623e-04 - accuracy: 1.0000\n",
      "Epoch 71/100\n",
      "10/10 [==============================] - 4s 396ms/step - loss: 4.5873e-04 - accuracy: 1.0000\n",
      "Epoch 72/100\n",
      "10/10 [==============================] - 4s 434ms/step - loss: 4.7640e-04 - accuracy: 1.0000\n",
      "Epoch 73/100\n",
      "10/10 [==============================] - 4s 409ms/step - loss: 4.4761e-04 - accuracy: 1.0000\n",
      "Epoch 74/100\n",
      "10/10 [==============================] - 4s 399ms/step - loss: 4.5071e-04 - accuracy: 1.0000\n",
      "Epoch 75/100\n",
      "10/10 [==============================] - 4s 398ms/step - loss: 4.6766e-04 - accuracy: 1.0000\n",
      "Epoch 76/100\n",
      "10/10 [==============================] - 4s 397ms/step - loss: 4.5843e-04 - accuracy: 1.0000\n",
      "Epoch 77/100\n",
      "10/10 [==============================] - 4s 403ms/step - loss: 4.1483e-04 - accuracy: 1.0000\n",
      "Epoch 78/100\n",
      "10/10 [==============================] - 4s 406ms/step - loss: 4.0918e-04 - accuracy: 1.0000\n",
      "Epoch 79/100\n",
      "10/10 [==============================] - 4s 416ms/step - loss: 4.0124e-04 - accuracy: 1.0000\n",
      "Epoch 80/100\n"
     ]
    },
    {
     "name": "stdout",
     "output_type": "stream",
     "text": [
      "10/10 [==============================] - 4s 394ms/step - loss: 4.0666e-04 - accuracy: 1.0000\n",
      "Epoch 81/100\n",
      "10/10 [==============================] - 4s 397ms/step - loss: 4.0324e-04 - accuracy: 1.0000\n",
      "Epoch 82/100\n",
      "10/10 [==============================] - 4s 403ms/step - loss: 3.7799e-04 - accuracy: 1.0000\n",
      "Epoch 83/100\n",
      "10/10 [==============================] - 4s 389ms/step - loss: 3.5085e-04 - accuracy: 1.0000\n",
      "Epoch 84/100\n",
      "10/10 [==============================] - 4s 388ms/step - loss: 4.1833e-04 - accuracy: 1.0000\n",
      "Epoch 85/100\n",
      "10/10 [==============================] - 4s 402ms/step - loss: 3.5816e-04 - accuracy: 1.0000\n",
      "Epoch 86/100\n",
      "10/10 [==============================] - 4s 392ms/step - loss: 3.7022e-04 - accuracy: 1.0000\n",
      "Epoch 87/100\n",
      "10/10 [==============================] - 4s 413ms/step - loss: 3.6076e-04 - accuracy: 1.0000\n",
      "Epoch 88/100\n",
      "10/10 [==============================] - 4s 390ms/step - loss: 3.8414e-04 - accuracy: 1.0000\n",
      "Epoch 89/100\n",
      "10/10 [==============================] - 4s 391ms/step - loss: 3.7388e-04 - accuracy: 1.0000\n",
      "Epoch 90/100\n",
      "10/10 [==============================] - 4s 395ms/step - loss: 3.3957e-04 - accuracy: 1.0000\n",
      "Epoch 91/100\n",
      "10/10 [==============================] - ETA: 0s - loss: 3.1570e-04 - accuracy: 1.00 - 4s 392ms/step - loss: 3.1570e-04 - accuracy: 1.0000\n",
      "Epoch 92/100\n",
      "10/10 [==============================] - 4s 392ms/step - loss: 3.7366e-04 - accuracy: 1.0000\n",
      "Epoch 93/100\n",
      "10/10 [==============================] - 4s 404ms/step - loss: 3.0451e-04 - accuracy: 1.0000\n",
      "Epoch 94/100\n",
      "10/10 [==============================] - 4s 409ms/step - loss: 2.9319e-04 - accuracy: 1.0000\n",
      "Epoch 95/100\n",
      "10/10 [==============================] - 4s 390ms/step - loss: 3.1338e-04 - accuracy: 1.0000\n",
      "Epoch 96/100\n",
      "10/10 [==============================] - 4s 391ms/step - loss: 2.7912e-04 - accuracy: 1.0000\n",
      "Epoch 97/100\n",
      "10/10 [==============================] - 4s 393ms/step - loss: 2.7689e-04 - accuracy: 1.0000\n",
      "Epoch 98/100\n",
      "10/10 [==============================] - 4s 394ms/step - loss: 2.8244e-04 - accuracy: 1.0000\n",
      "Epoch 99/100\n",
      "10/10 [==============================] - 4s 389ms/step - loss: 2.7715e-04 - accuracy: 1.0000\n",
      "Epoch 100/100\n",
      "10/10 [==============================] - 4s 390ms/step - loss: 2.5761e-04 - accuracy: 1.0000\n"
     ]
    },
    {
     "data": {
      "text/plain": [
       "<tensorflow.python.keras.callbacks.History at 0x17398df1248>"
      ]
     },
     "execution_count": 18,
     "metadata": {},
     "output_type": "execute_result"
    }
   ],
   "source": [
    "happyModel.fit(X_train, Y_train, batch_size=64, epochs=100)"
   ]
  },
  {
   "cell_type": "markdown",
   "metadata": {},
   "source": [
    "## Calculating the accuracy"
   ]
  },
  {
   "cell_type": "code",
   "execution_count": 19,
   "metadata": {},
   "outputs": [
    {
     "name": "stdout",
     "output_type": "stream",
     "text": [
      "5/5 [==============================] - 0s 96ms/step - loss: 0.0243 - accuracy: 0.9867\n",
      "{'loss': 0.024342834949493408, 'accuracy': 0.9866666793823242}\n"
     ]
    }
   ],
   "source": [
    "preds = happyModel.evaluate(X_test, Y_test, return_dict=True)\n",
    "\n",
    "print(preds)"
   ]
  },
  {
   "cell_type": "code",
   "execution_count": null,
   "metadata": {},
   "outputs": [],
   "source": []
  }
 ],
 "metadata": {
  "kernelspec": {
   "display_name": "Python 3",
   "language": "python",
   "name": "python3"
  },
  "language_info": {
   "codemirror_mode": {
    "name": "ipython",
    "version": 3
   },
   "file_extension": ".py",
   "mimetype": "text/x-python",
   "name": "python",
   "nbconvert_exporter": "python",
   "pygments_lexer": "ipython3",
   "version": "3.7.7"
  }
 },
 "nbformat": 4,
 "nbformat_minor": 4
}
