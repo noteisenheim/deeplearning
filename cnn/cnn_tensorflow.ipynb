{
 "cells": [
  {
   "cell_type": "markdown",
   "metadata": {},
   "source": [
    "# Image classification using Tensorflow and CNN\n",
    "\n",
    "### Task\n",
    "\n",
    "We have a dataset for the numbers shown via sign language, numbers are from 0 to 5. We want to train our CNN so that it detects the sign shown at the picture."
   ]
  },
  {
   "cell_type": "code",
   "execution_count": 1,
   "metadata": {},
   "outputs": [],
   "source": [
    "# importing libraries\n",
    "import math\n",
    "import numpy as np\n",
    "import h5py\n",
    "import matplotlib.pyplot as plt\n",
    "import tensorflow as tf\n",
    "from tensorflow import keras\n",
    "\n",
    "%matplotlib inline"
   ]
  },
  {
   "cell_type": "markdown",
   "metadata": {},
   "source": [
    "## Loading data"
   ]
  },
  {
   "cell_type": "code",
   "execution_count": 2,
   "metadata": {},
   "outputs": [],
   "source": [
    "def load_dataset():\n",
    "    train_dataset = h5py.File('datasets/train_signs.h5', \"r\")\n",
    "    train_set_x_orig = np.array(train_dataset[\"train_set_x\"][:]) \n",
    "    train_set_y_orig = np.array(train_dataset[\"train_set_y\"][:])\n",
    "\n",
    "    test_dataset = h5py.File('datasets/test_signs.h5', \"r\")\n",
    "    test_set_x_orig = np.array(test_dataset[\"test_set_x\"][:])\n",
    "    test_set_y_orig = np.array(test_dataset[\"test_set_y\"][:])\n",
    "    \n",
    "    classes = np.array(test_dataset[\"list_classes\"][:]) # the list of classes\n",
    "    \n",
    "    train_set_y_orig = train_set_y_orig.reshape((1, train_set_y_orig.shape[0]))\n",
    "    test_set_y_orig = test_set_y_orig.reshape((1, test_set_y_orig.shape[0]))\n",
    "    \n",
    "    return train_set_x_orig, train_set_y_orig, test_set_x_orig, test_set_y_orig, classes"
   ]
  },
  {
   "cell_type": "code",
   "execution_count": 3,
   "metadata": {},
   "outputs": [],
   "source": [
    "# Loading the data (signs)\n",
    "X_train_orig, Y_train_orig, X_test_orig, Y_test_orig, classes = load_dataset()"
   ]
  },
  {
   "cell_type": "code",
   "execution_count": 4,
   "metadata": {},
   "outputs": [
    {
     "name": "stdout",
     "output_type": "stream",
     "text": [
      "y = 5\n"
     ]
    },
    {
     "data": {
      "image/png": "[encoded data removed]",
      "text/plain": [
       "<Figure size 432x288 with 1 Axes>"
      ]
     },
     "metadata": {
      "needs_background": "light"
     },
     "output_type": "display_data"
    }
   ],
   "source": [
    "# example of a picture\n",
    "index = 29\n",
    "plt.imshow(X_train_orig[index])\n",
    "print (\"y = \" + str(np.squeeze(Y_train_orig[:, index])))"
   ]
  },
  {
   "cell_type": "code",
   "execution_count": 5,
   "metadata": {},
   "outputs": [
    {
     "name": "stdout",
     "output_type": "stream",
     "text": [
      "number of training examples = 64\n",
      "number of test examples = 64\n",
      "X_train shape: (1080, 64, 64, 3)\n",
      "Y_train shape: (1, 1080)\n",
      "X_test shape: (120, 64, 64, 3)\n",
      "Y_test shape: (1, 120)\n"
     ]
    }
   ],
   "source": [
    "# normalizing colour values\n",
    "X_train = X_train_orig/255.\n",
    "X_test = X_test_orig/255.\n",
    "# converting training and test labels to one hot matrices\n",
    "Y_train = Y_train_orig\n",
    "Y_test = Y_test_orig\n",
    "\n",
    "print (\"number of training examples = \" + str(X_train.shape[1]))\n",
    "print (\"number of test examples = \" + str(X_test.shape[1]))\n",
    "print (\"X_train shape: \" + str(X_train.shape))\n",
    "print (\"Y_train shape: \" + str(Y_train.shape))\n",
    "print (\"X_test shape: \" + str(X_test.shape))\n",
    "print (\"Y_test shape: \" + str(Y_test.shape))"
   ]
  },
  {
   "cell_type": "markdown",
   "metadata": {},
   "source": [
    "## CNN architecture\n",
    "\n",
    "The layers are the following: CONV2D -> RELU -> MAXPOOL -> CONV2D -> RELU -> MAXPOOL -> FLATTEN -> FULLYCONNECTED\n",
    "Input images are all 64x64x3\n",
    "\n",
    "For each layer the following parameters are used:\n",
    " - Conv2D: stride 1, padding is \"SAME\"\n",
    " - ReLU\n",
    " - Max pool: 8 by 8 filter, 8 by 8 stride, padding is \"SAME\"\n",
    " - Conv2D: stride 1, padding is \"SAME\"\n",
    " - ReLU\n",
    " - Max pool: 4 by 4 filter, 4 by 4 stride, padding is \"SAME\"\n",
    " - Flatten\n",
    " - FULLYCONNECTED (FC) layer with softmax"
   ]
  },
  {
   "cell_type": "code",
   "execution_count": 7,
   "metadata": {},
   "outputs": [
    {
     "name": "stdout",
     "output_type": "stream",
     "text": [
      "WARNING:tensorflow:From c:\\users\\noteisenheim\\appdata\\local\\programs\\python\\python37\\lib\\site-packages\\tensorflow_core\\python\\ops\\resource_variable_ops.py:1630: calling BaseResourceVariable.__init__ (from tensorflow.python.ops.resource_variable_ops) with constraint is deprecated and will be removed in a future version.\n",
      "Instructions for updating:\n",
      "If using Keras pass *_constraint arguments to layers.\n"
     ]
    }
   ],
   "source": [
    "# defining the model\n",
    "model = keras.Sequential([\n",
    "    keras.layers.Conv2D(strides=1, filters=8, kernel_size=4, padding='same', activation='relu', input_shape=(64, 64, 3), kernel_regularizer=keras.regularizers.l2(0.01)),\n",
    "    keras.layers.MaxPool2D(pool_size=8, strides=8, padding='same'),\n",
    "    keras.layers.Conv2D(strides=1, filters=16, kernel_size=2, padding='same', activation='relu', kernel_regularizer=keras.regularizers.l2(0.01)),\n",
    "    keras.layers.MaxPool2D(pool_size=4, strides=4, padding='same'),\n",
    "    keras.layers.Flatten(),\n",
    "    keras.layers.Dense(6, activation='softmax')\n",
    "])"
   ]
  },
  {
   "cell_type": "code",
   "execution_count": 8,
   "metadata": {},
   "outputs": [],
   "source": [
    "# compiling the model\n",
    "model.compile(optimizer='adam',\n",
    "              loss='sparse_categorical_crossentropy',\n",
    "              metrics=['accuracy'])"
   ]
  },
  {
   "cell_type": "code",
   "execution_count": 9,
   "metadata": {},
   "outputs": [
    {
     "name": "stdout",
     "output_type": "stream",
     "text": [
      "Train on 1080 samples\n",
      "Epoch 1/100\n",
      "1080/1080 [==============================] - 6s 5ms/sample - loss: 1.9603 - acc: 0.1509\n",
      "Epoch 2/100\n",
      "1080/1080 [==============================] - 2s 2ms/sample - loss: 1.9228 - acc: 0.1815\n",
      "Epoch 3/100\n",
      "1080/1080 [==============================] - 2s 2ms/sample - loss: 1.9074 - acc: 0.1935\n",
      "Epoch 4/100\n",
      "1080/1080 [==============================] - 2s 2ms/sample - loss: 1.8936 - acc: 0.1824\n",
      "Epoch 5/100\n",
      "1080/1080 [==============================] - 2s 2ms/sample - loss: 1.8809 - acc: 0.2065\n",
      "Epoch 6/100\n",
      "1080/1080 [==============================] - 2s 2ms/sample - loss: 1.8704 - acc: 0.2065\n",
      "Epoch 7/100\n",
      "1080/1080 [==============================] - 2s 2ms/sample - loss: 1.8612 - acc: 0.2676\n",
      "Epoch 8/100\n",
      "1080/1080 [==============================] - 2s 2ms/sample - loss: 1.8508 - acc: 0.2556\n",
      "Epoch 9/100\n",
      "1080/1080 [==============================] - 2s 2ms/sample - loss: 1.8438 - acc: 0.2759\n",
      "Epoch 10/100\n",
      "1080/1080 [==============================] - 2s 2ms/sample - loss: 1.8366 - acc: 0.3269\n",
      "Epoch 11/100\n",
      "1080/1080 [==============================] - 2s 2ms/sample - loss: 1.8278 - acc: 0.3380\n",
      "Epoch 12/100\n",
      "1080/1080 [==============================] - 2s 2ms/sample - loss: 1.8200 - acc: 0.3648\n",
      "Epoch 13/100\n",
      "1080/1080 [==============================] - 2s 2ms/sample - loss: 1.8119 - acc: 0.3639\n",
      "Epoch 14/100\n",
      "1080/1080 [==============================] - 2s 2ms/sample - loss: 1.8045 - acc: 0.4306\n",
      "Epoch 15/100\n",
      "1080/1080 [==============================] - 2s 2ms/sample - loss: 1.7949 - acc: 0.3889\n",
      "Epoch 16/100\n",
      "1080/1080 [==============================] - 2s 2ms/sample - loss: 1.7839 - acc: 0.3843\n",
      "Epoch 17/100\n",
      "1080/1080 [==============================] - 2s 2ms/sample - loss: 1.7757 - acc: 0.3750\n",
      "Epoch 18/100\n",
      "1080/1080 [==============================] - 2s 2ms/sample - loss: 1.7618 - acc: 0.4083\n",
      "Epoch 19/100\n",
      "1080/1080 [==============================] - 2s 2ms/sample - loss: 1.7479 - acc: 0.4194\n",
      "Epoch 20/100\n",
      "1080/1080 [==============================] - 2s 2ms/sample - loss: 1.7265 - acc: 0.4009\n",
      "Epoch 21/100\n",
      "1080/1080 [==============================] - 2s 2ms/sample - loss: 1.7076 - acc: 0.4333\n",
      "Epoch 22/100\n",
      "1080/1080 [==============================] - 2s 2ms/sample - loss: 1.6893 - acc: 0.4204\n",
      "Epoch 23/100\n",
      "1080/1080 [==============================] - 2s 2ms/sample - loss: 1.6538 - acc: 0.4741\n",
      "Epoch 24/100\n",
      "1080/1080 [==============================] - 2s 2ms/sample - loss: 1.6188 - acc: 0.5222\n",
      "Epoch 25/100\n",
      "1080/1080 [==============================] - 2s 2ms/sample - loss: 1.5796 - acc: 0.5139\n",
      "Epoch 26/100\n",
      "1080/1080 [==============================] - 2s 2ms/sample - loss: 1.5459 - acc: 0.5148\n",
      "Epoch 27/100\n",
      "1080/1080 [==============================] - 2s 2ms/sample - loss: 1.5053 - acc: 0.5481\n",
      "Epoch 28/100\n",
      "1080/1080 [==============================] - 2s 2ms/sample - loss: 1.4647 - acc: 0.5481\n",
      "Epoch 29/100\n",
      "1080/1080 [==============================] - 2s 2ms/sample - loss: 1.4220 - acc: 0.5537\n",
      "Epoch 30/100\n",
      "1080/1080 [==============================] - 2s 2ms/sample - loss: 1.3869 - acc: 0.5759\n",
      "Epoch 31/100\n",
      "1080/1080 [==============================] - 2s 2ms/sample - loss: 1.3548 - acc: 0.5620\n",
      "Epoch 32/100\n",
      "1080/1080 [==============================] - 2s 2ms/sample - loss: 1.3204 - acc: 0.5963\n",
      "Epoch 33/100\n",
      "1080/1080 [==============================] - 2s 2ms/sample - loss: 1.2931 - acc: 0.6093\n",
      "Epoch 34/100\n",
      "1080/1080 [==============================] - 2s 2ms/sample - loss: 1.2821 - acc: 0.6130\n",
      "Epoch 35/100\n",
      "1080/1080 [==============================] - 2s 2ms/sample - loss: 1.2459 - acc: 0.6065\n",
      "Epoch 36/100\n",
      "1080/1080 [==============================] - 2s 2ms/sample - loss: 1.2323 - acc: 0.6324\n",
      "Epoch 37/100\n",
      "1080/1080 [==============================] - 2s 2ms/sample - loss: 1.2225 - acc: 0.6222\n",
      "Epoch 38/100\n",
      "1080/1080 [==============================] - 2s 2ms/sample - loss: 1.2072 - acc: 0.6065\n",
      "Epoch 39/100\n",
      "1080/1080 [==============================] - 2s 2ms/sample - loss: 1.1812 - acc: 0.6296\n",
      "Epoch 40/100\n",
      "1080/1080 [==============================] - 2s 2ms/sample - loss: 1.1672 - acc: 0.6426\n",
      "Epoch 41/100\n",
      "1080/1080 [==============================] - 2s 2ms/sample - loss: 1.1558 - acc: 0.6519\n",
      "Epoch 42/100\n",
      "1080/1080 [==============================] - 2s 2ms/sample - loss: 1.1490 - acc: 0.6546\n",
      "Epoch 43/100\n",
      "1080/1080 [==============================] - 2s 2ms/sample - loss: 1.1354 - acc: 0.6620\n",
      "Epoch 44/100\n",
      "1080/1080 [==============================] - 2s 2ms/sample - loss: 1.1260 - acc: 0.6620\n",
      "Epoch 45/100\n",
      "1080/1080 [==============================] - 2s 2ms/sample - loss: 1.1125 - acc: 0.6704\n",
      "Epoch 46/100\n",
      "1080/1080 [==============================] - 2s 2ms/sample - loss: 1.0967 - acc: 0.6843\n",
      "Epoch 47/100\n",
      "1080/1080 [==============================] - 2s 2ms/sample - loss: 1.1037 - acc: 0.6731\n",
      "Epoch 48/100\n",
      "1080/1080 [==============================] - 2s 2ms/sample - loss: 1.0931 - acc: 0.6824\n",
      "Epoch 49/100\n",
      "1080/1080 [==============================] - 2s 2ms/sample - loss: 1.1008 - acc: 0.6731\n",
      "Epoch 50/100\n",
      "1080/1080 [==============================] - 2s 2ms/sample - loss: 1.0845 - acc: 0.6833\n",
      "Epoch 51/100\n",
      "1080/1080 [==============================] - 2s 2ms/sample - loss: 1.0670 - acc: 0.7009\n",
      "Epoch 52/100\n",
      "1080/1080 [==============================] - 2s 2ms/sample - loss: 1.0598 - acc: 0.6898\n",
      "Epoch 53/100\n",
      "1080/1080 [==============================] - 2s 2ms/sample - loss: 1.0561 - acc: 0.6880\n",
      "Epoch 54/100\n",
      "1080/1080 [==============================] - 2s 2ms/sample - loss: 1.0614 - acc: 0.6991\n",
      "Epoch 55/100\n",
      "1080/1080 [==============================] - 2s 2ms/sample - loss: 1.0508 - acc: 0.7028\n",
      "Epoch 56/100\n",
      "1080/1080 [==============================] - 2s 2ms/sample - loss: 1.0338 - acc: 0.7139\n",
      "Epoch 57/100\n",
      "1080/1080 [==============================] - 2s 2ms/sample - loss: 1.0332 - acc: 0.7102\n",
      "Epoch 58/100\n",
      "1080/1080 [==============================] - 2s 2ms/sample - loss: 1.0204 - acc: 0.7167\n",
      "Epoch 59/100\n",
      "1080/1080 [==============================] - 2s 2ms/sample - loss: 1.0167 - acc: 0.7157\n",
      "Epoch 60/100\n",
      "1080/1080 [==============================] - 2s 2ms/sample - loss: 1.0215 - acc: 0.7130\n",
      "Epoch 61/100\n",
      "1080/1080 [==============================] - 2s 2ms/sample - loss: 1.0173 - acc: 0.7093\n",
      "Epoch 62/100\n",
      "1080/1080 [==============================] - 2s 2ms/sample - loss: 0.9997 - acc: 0.7315\n",
      "Epoch 63/100\n",
      "1080/1080 [==============================] - 2s 2ms/sample - loss: 1.0068 - acc: 0.7111\n",
      "Epoch 64/100\n",
      "1080/1080 [==============================] - 2s 2ms/sample - loss: 0.9882 - acc: 0.7324\n",
      "Epoch 65/100\n",
      "1080/1080 [==============================] - 2s 2ms/sample - loss: 0.9979 - acc: 0.7241\n",
      "Epoch 66/100\n",
      "1080/1080 [==============================] - 2s 2ms/sample - loss: 0.9836 - acc: 0.7306\n",
      "Epoch 67/100\n",
      "1080/1080 [==============================] - 2s 2ms/sample - loss: 0.9779 - acc: 0.7417\n",
      "Epoch 68/100\n",
      "1080/1080 [==============================] - 2s 2ms/sample - loss: 0.9802 - acc: 0.7287\n",
      "Epoch 69/100\n",
      "1080/1080 [==============================] - 2s 2ms/sample - loss: 0.9702 - acc: 0.7417\n",
      "Epoch 70/100\n",
      "1080/1080 [==============================] - 2s 2ms/sample - loss: 0.9751 - acc: 0.7444\n",
      "Epoch 71/100\n",
      "1080/1080 [==============================] - 2s 2ms/sample - loss: 0.9607 - acc: 0.7417\n",
      "Epoch 72/100\n",
      "1080/1080 [==============================] - 2s 2ms/sample - loss: 0.9708 - acc: 0.7417\n",
      "Epoch 73/100\n",
      "1080/1080 [==============================] - 2s 2ms/sample - loss: 0.9609 - acc: 0.7481\n",
      "Epoch 74/100\n",
      "1080/1080 [==============================] - 2s 2ms/sample - loss: 0.9567 - acc: 0.7472\n",
      "Epoch 75/100\n",
      "1080/1080 [==============================] - 2s 2ms/sample - loss: 0.9504 - acc: 0.7528\n",
      "Epoch 76/100\n",
      "1080/1080 [==============================] - 2s 2ms/sample - loss: 0.9445 - acc: 0.7556\n",
      "Epoch 77/100\n",
      "1080/1080 [==============================] - 2s 2ms/sample - loss: 0.9371 - acc: 0.7528\n",
      "Epoch 78/100\n",
      "1080/1080 [==============================] - 2s 2ms/sample - loss: 0.9327 - acc: 0.7519\n",
      "Epoch 79/100\n",
      "1080/1080 [==============================] - 2s 2ms/sample - loss: 0.9401 - acc: 0.7491\n",
      "Epoch 80/100\n",
      "1080/1080 [==============================] - 2s 2ms/sample - loss: 0.9182 - acc: 0.7667\n",
      "Epoch 81/100\n",
      "1080/1080 [==============================] - 2s 2ms/sample - loss: 0.9358 - acc: 0.7537\n"
     ]
    },
    {
     "name": "stdout",
     "output_type": "stream",
     "text": [
      "Epoch 82/100\n",
      "1080/1080 [==============================] - 2s 2ms/sample - loss: 0.9224 - acc: 0.7639\n",
      "Epoch 83/100\n",
      "1080/1080 [==============================] - 2s 2ms/sample - loss: 0.9191 - acc: 0.7648\n",
      "Epoch 84/100\n",
      "1080/1080 [==============================] - 2s 2ms/sample - loss: 0.9165 - acc: 0.7519\n",
      "Epoch 85/100\n",
      "1080/1080 [==============================] - 2s 2ms/sample - loss: 0.9100 - acc: 0.7704\n",
      "Epoch 86/100\n",
      "1080/1080 [==============================] - 2s 2ms/sample - loss: 0.9050 - acc: 0.7806\n",
      "Epoch 87/100\n",
      "1080/1080 [==============================] - 2s 2ms/sample - loss: 0.9015 - acc: 0.7769\n",
      "Epoch 88/100\n",
      "1080/1080 [==============================] - 2s 2ms/sample - loss: 0.9046 - acc: 0.7731\n",
      "Epoch 89/100\n",
      "1080/1080 [==============================] - 2s 2ms/sample - loss: 0.8991 - acc: 0.7769\n",
      "Epoch 90/100\n",
      "1080/1080 [==============================] - 2s 2ms/sample - loss: 0.9001 - acc: 0.7750\n",
      "Epoch 91/100\n",
      "1080/1080 [==============================] - 2s 2ms/sample - loss: 0.8911 - acc: 0.7787\n",
      "Epoch 92/100\n",
      "1080/1080 [==============================] - 2s 2ms/sample - loss: 0.8828 - acc: 0.7824\n",
      "Epoch 93/100\n",
      "1080/1080 [==============================] - 2s 2ms/sample - loss: 0.8873 - acc: 0.7750\n",
      "Epoch 94/100\n",
      "1080/1080 [==============================] - 2s 2ms/sample - loss: 0.8724 - acc: 0.7898\n",
      "Epoch 95/100\n",
      "1080/1080 [==============================] - 2s 2ms/sample - loss: 0.8774 - acc: 0.7685\n",
      "Epoch 96/100\n",
      "1080/1080 [==============================] - 2s 2ms/sample - loss: 0.8748 - acc: 0.7889\n",
      "Epoch 97/100\n",
      "1080/1080 [==============================] - 2s 2ms/sample - loss: 0.8818 - acc: 0.7824\n",
      "Epoch 98/100\n",
      "1080/1080 [==============================] - 2s 2ms/sample - loss: 0.8721 - acc: 0.7778\n",
      "Epoch 99/100\n",
      "1080/1080 [==============================] - 2s 2ms/sample - loss: 0.8625 - acc: 0.8065\n",
      "Epoch 100/100\n",
      "1080/1080 [==============================] - 2s 2ms/sample - loss: 0.8666 - acc: 0.7861\n"
     ]
    },
    {
     "data": {
      "text/plain": [
       "<tensorflow.python.keras.callbacks.History at 0x216c5c44988>"
      ]
     },
     "execution_count": 9,
     "metadata": {},
     "output_type": "execute_result"
    }
   ],
   "source": [
    "# training the model\n",
    "model.fit(X_train, Y_train.T, batch_size=64, epochs=100)"
   ]
  },
  {
   "cell_type": "markdown",
   "metadata": {},
   "source": [
    "## Evaluating performance"
   ]
  },
  {
   "cell_type": "code",
   "execution_count": 10,
   "metadata": {},
   "outputs": [
    {
     "name": "stdout",
     "output_type": "stream",
     "text": [
      "120/120 - 0s - loss: 0.9355 - acc: 0.7417\n",
      "Loss on test data: 0.935526, accuracy: 0.741667\n"
     ]
    }
   ],
   "source": [
    "test_loss, test_acc = model.evaluate(X_test,  Y_test.T, verbose=2)\n",
    "print(\"Loss on test data: %f, accuracy: %f\" % (test_loss, test_acc))"
   ]
  },
  {
   "cell_type": "markdown",
   "metadata": {},
   "source": [
    "The performance on the test and training set are quite similar, thus, the regularization does really matter\n",
    "\n",
    "Changing the hyperparams might help to increase the performance"
   ]
  },
  {
   "cell_type": "markdown",
   "metadata": {},
   "source": [
    "## Visualizing the images the model makes mistakes in"
   ]
  },
  {
   "cell_type": "code",
   "execution_count": 11,
   "metadata": {},
   "outputs": [],
   "source": [
    "# make predictions\n",
    "predictions = model.predict(X_test)"
   ]
  },
  {
   "cell_type": "code",
   "execution_count": 12,
   "metadata": {},
   "outputs": [
    {
     "name": "stdout",
     "output_type": "stream",
     "text": [
      "[0.00456712 0.12074015 0.35829914 0.21953863 0.05285608 0.24399893]\n",
      "true label:  [3]\n"
     ]
    },
    {
     "data": {
      "image/png": "[encoded data removed]",
      "text/plain": [
       "<Figure size 432x288 with 1 Axes>"
      ]
     },
     "metadata": {
      "needs_background": "light"
     },
     "output_type": "display_data"
    }
   ],
   "source": [
    "for i in range(predictions.shape[0]):\n",
    "    if np.argmax(predictions[i]) != Y_test[:, i]:\n",
    "        plt.imshow(X_test[i])\n",
    "        print(predictions[i])\n",
    "        print(\"true label: \", Y_test[:, i])\n",
    "        break"
   ]
  },
  {
   "cell_type": "code",
   "execution_count": null,
   "metadata": {},
   "outputs": [],
   "source": []
  }
 ],
 "metadata": {
  "kernelspec": {
   "display_name": "Python 3",
   "language": "python",
   "name": "python3"
  },
  "language_info": {
   "codemirror_mode": {
    "name": "ipython",
    "version": 3
   },
   "file_extension": ".py",
   "mimetype": "text/x-python",
   "name": "python",
   "nbconvert_exporter": "python",
   "pygments_lexer": "ipython3",
   "version": "3.7.7"
  }
 },
 "nbformat": 4,
 "nbformat_minor": 4
}
